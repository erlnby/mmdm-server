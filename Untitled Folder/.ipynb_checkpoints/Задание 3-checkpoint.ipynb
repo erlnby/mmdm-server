{
 "cells": [
  {
   "cell_type": "code",
   "execution_count": 41,
   "id": "a158439c",
   "metadata": {},
   "outputs": [],
   "source": [
    "from sympy import *\n",
    "from scipy.optimize import minimize\n",
    "import numpy as np"
   ]
  },
  {
   "cell_type": "code",
   "execution_count": 56,
   "id": "8e2f399b",
   "metadata": {},
   "outputs": [
    {
     "data": {
      "text/plain": [
       "(3000.0*x_1 + 2000.0*y_1, 3000.0*x_1 + 5000.0*y_1)"
      ]
     },
     "execution_count": 56,
     "metadata": {},
     "output_type": "execute_result"
    }
   ],
   "source": [
    "s_0 = 10000\n",
    "\n",
    "p_1 = sympify('s_0 * (0.3 * x_1 + 0.2 * y_1)')\n",
    "s_1 = sympify('s_0 * (0.3 * x_1 + 0.5 * y_1)')\n",
    "p_1 = p_1.subs({\n",
    "    's_0': s_0\n",
    "})\n",
    "s_1 = s_1.subs({\n",
    "    's_0': s_0\n",
    "})\n",
    "p_1, s_1"
   ]
  },
  {
   "cell_type": "code",
   "execution_count": 57,
   "id": "885df82d",
   "metadata": {},
   "outputs": [
    {
     "data": {
      "text/plain": [
       "((3000.0*x_1 + 5000.0*y_1)*(0.3*x_2 + 0.2*y_2),\n",
       " (3000.0*x_1 + 5000.0*y_1)*(0.3*x_2 + 0.5*y_2))"
      ]
     },
     "execution_count": 57,
     "metadata": {},
     "output_type": "execute_result"
    }
   ],
   "source": [
    "p_2 = sympify('s_1 * (0.3 * x_2 + 0.2 * y_2)')\n",
    "s_2 = sympify('s_1 * (0.3 * x_2 + 0.5 * y_2)')\n",
    "p_2 = p_2.subs({\n",
    "    's_1': s_1\n",
    "})\n",
    "s_2 = s_2.subs({\n",
    "    's_1': s_1\n",
    "})\n",
    "p_2, s_2"
   ]
  },
  {
   "cell_type": "code",
   "execution_count": 58,
   "id": "a6d8dd4d",
   "metadata": {},
   "outputs": [
    {
     "data": {
      "text/latex": [
       "$\\displaystyle \\left(3000.0 x_{1} + 5000.0 y_{1}\\right) \\left(0.3 x_{2} + 0.5 y_{2}\\right) \\left(0.3 x_{3} + 0.2 y_{3}\\right)$"
      ],
      "text/plain": [
       "(3000.0*x_1 + 5000.0*y_1)*(0.3*x_2 + 0.5*y_2)*(0.3*x_3 + 0.2*y_3)"
      ]
     },
     "execution_count": 58,
     "metadata": {},
     "output_type": "execute_result"
    }
   ],
   "source": [
    "p_3 = sympify('s_2 * (0.3 * x_3 + 0.2 * y_3)')\n",
    "p_3 = p_3.subs({\n",
    "    's_2': s_2\n",
    "})\n",
    "p_3"
   ]
  },
  {
   "cell_type": "code",
   "execution_count": 59,
   "id": "95581a64",
   "metadata": {},
   "outputs": [
    {
     "data": {
      "text/latex": [
       "$\\displaystyle 3000.0 x_{1} + 2000.0 y_{1} + \\left(3000.0 x_{1} + 5000.0 y_{1}\\right) \\left(0.3 x_{2} + 0.2 y_{2}\\right) + \\left(3000.0 x_{1} + 5000.0 y_{1}\\right) \\left(0.3 x_{2} + 0.5 y_{2}\\right) \\left(0.3 x_{3} + 0.2 y_{3}\\right)$"
      ],
      "text/plain": [
       "3000.0*x_1 + 2000.0*y_1 + (3000.0*x_1 + 5000.0*y_1)*(0.3*x_2 + 0.2*y_2) + (3000.0*x_1 + 5000.0*y_1)*(0.3*x_2 + 0.5*y_2)*(0.3*x_3 + 0.2*y_3)"
      ]
     },
     "execution_count": 59,
     "metadata": {},
     "output_type": "execute_result"
    }
   ],
   "source": [
    "p = p_1 + p_2 + p_3\n",
    "p"
   ]
  },
  {
   "cell_type": "code",
   "execution_count": 61,
   "id": "79685bed",
   "metadata": {},
   "outputs": [
    {
     "data": {
      "text/plain": [
       "3900.0"
      ]
     },
     "execution_count": 61,
     "metadata": {},
     "output_type": "execute_result"
    }
   ],
   "source": [
    "l = lambdify(symbols('x_1 y_1 x_2 y_2 x_3 y_3'), p)\n",
    "l(0.5, 0.5, 0.5, 0.5, 0.5, 0.5)"
   ]
  },
  {
   "cell_type": "code",
   "execution_count": 62,
   "id": "fa643107",
   "metadata": {},
   "outputs": [],
   "source": [
    "def constraint1(x):\n",
    "    return np.array([x[0] + x[1], x[2] + x[3], x[4] + x[5]]) - 1"
   ]
  },
  {
   "cell_type": "code",
   "execution_count": 63,
   "id": "36c95a9e",
   "metadata": {},
   "outputs": [
    {
     "name": "stdout",
     "output_type": "stream",
     "text": [
      "     fun: -4170.000000018398\n",
      "     jac: array([-4170., -3950., -1170., -1050.,  -270.,  -180.])\n",
      " message: 'Optimization terminated successfully'\n",
      "    nfev: 15\n",
      "     nit: 2\n",
      "    njev: 2\n",
      "  status: 0\n",
      " success: True\n",
      "       x: array([1.00000000e+00, 4.35807101e-11, 1.00000000e+00, 0.00000000e+00,\n",
      "       1.00000000e+00, 0.00000000e+00])\n"
     ]
    }
   ],
   "source": [
    "constraints = ({'type': 'eq', 'fun': constraint1})\n",
    "bounds = [\n",
    "    (0, None),\n",
    "    (0, None),\n",
    "    (0, None),\n",
    "    (0, None),\n",
    "    (0, None),\n",
    "    (0, None),\n",
    "]\n",
    "x0 = np.array([0.5, 0.5, 0.5, 0.5, 0.5, 0.5])\n",
    "solution = minimize(lambda args: -l(*args), x0, method='SLSQP', constraints=constraints, bounds=bounds)\n",
    "print(solution)"
   ]
  },
  {
   "cell_type": "code",
   "execution_count": 65,
   "id": "109fb662",
   "metadata": {},
   "outputs": [
    {
     "data": {
      "text/plain": [
       "4170.000000018398"
      ]
     },
     "execution_count": 65,
     "metadata": {},
     "output_type": "execute_result"
    }
   ],
   "source": [
    "-solution.fun"
   ]
  },
  {
   "cell_type": "code",
   "execution_count": null,
   "id": "9efcd296",
   "metadata": {},
   "outputs": [],
   "source": []
  }
 ],
 "metadata": {
  "kernelspec": {
   "display_name": "Python 3",
   "language": "python",
   "name": "python3"
  },
  "language_info": {
   "codemirror_mode": {
    "name": "ipython",
    "version": 3
   },
   "file_extension": ".py",
   "mimetype": "text/x-python",
   "name": "python",
   "nbconvert_exporter": "python",
   "pygments_lexer": "ipython3",
   "version": "3.8.8"
  }
 },
 "nbformat": 4,
 "nbformat_minor": 5
}
