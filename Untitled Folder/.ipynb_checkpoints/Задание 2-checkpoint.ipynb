{
 "cells": [
  {
   "cell_type": "code",
   "execution_count": 11,
   "id": "342e2505",
   "metadata": {},
   "outputs": [],
   "source": [
    "import numpy as np\n",
    "from scipy.optimize import linprog"
   ]
  },
  {
   "cell_type": "code",
   "execution_count": 19,
   "id": "405e2b45",
   "metadata": {},
   "outputs": [],
   "source": [
    "a = np.array([\n",
    "    [10, 7],\n",
    "    [8, 9],\n",
    "    [12, 2]\n",
    "]).T\n",
    "\n",
    "c = np.array([1, 1, 1])\n",
    "b = np.array([1, 1])"
   ]
  },
  {
   "cell_type": "code",
   "execution_count": 20,
   "id": "2282be43",
   "metadata": {},
   "outputs": [
    {
     "data": {
      "text/plain": [
       "     con: array([], dtype=float64)\n",
       "     fun: 0.11764705891647417\n",
       " message: 'Optimization terminated successfully.'\n",
       "     nit: 5\n",
       "   slack: array([7.19814430e-10, 4.48334703e-10])\n",
       "  status: 0\n",
       " success: True\n",
       "       x: array([2.94117644e-02, 8.82352944e-02, 1.37304022e-10])"
      ]
     },
     "execution_count": 20,
     "metadata": {},
     "output_type": "execute_result"
    }
   ],
   "source": [
    "res = linprog(c, A_ub=-a, b_ub=-b)\n",
    "res"
   ]
  },
  {
   "cell_type": "code",
   "execution_count": 21,
   "id": "df215a82",
   "metadata": {},
   "outputs": [
    {
     "data": {
      "text/plain": [
       "array([1., 1.])"
      ]
     },
     "execution_count": 21,
     "metadata": {},
     "output_type": "execute_result"
    }
   ],
   "source": [
    "a.dot(res.x)"
   ]
  },
  {
   "cell_type": "code",
   "execution_count": 22,
   "id": "ef1edbc7",
   "metadata": {},
   "outputs": [
    {
     "data": {
      "text/plain": [
       "array([2.49999997e-01, 7.50000001e-01, 1.16708419e-09])"
      ]
     },
     "execution_count": 22,
     "metadata": {},
     "output_type": "execute_result"
    }
   ],
   "source": [
    "p = res.x / res.x.sum()\n",
    "p"
   ]
  },
  {
   "cell_type": "code",
   "execution_count": 23,
   "id": "122c5b55",
   "metadata": {},
   "outputs": [
    {
     "data": {
      "text/plain": [
       "8.49999999328474"
      ]
     },
     "execution_count": 23,
     "metadata": {},
     "output_type": "execute_result"
    }
   ],
   "source": [
    "v = 1 / res.x.sum()\n",
    "v"
   ]
  },
  {
   "cell_type": "code",
   "execution_count": 26,
   "id": "2738576d",
   "metadata": {},
   "outputs": [],
   "source": [
    "a = np.array([\n",
    "    [10, 7],\n",
    "    [8, 9],\n",
    "    [12, 2]\n",
    "])\n",
    "\n",
    "c = np.array([1, 1])\n",
    "b = np.array([1, 1, 1])"
   ]
  },
  {
   "cell_type": "code",
   "execution_count": 27,
   "id": "3cfeea13",
   "metadata": {},
   "outputs": [
    {
     "data": {
      "text/plain": [
       "     con: array([], dtype=float64)\n",
       "     fun: 0.11956521871195838\n",
       " message: 'Optimization terminated successfully.'\n",
       "     nit: 5\n",
       "   slack: array([6.52174024e-02, 1.12695620e-08, 8.80455109e-09])\n",
       "  status: 0\n",
       " success: True\n",
       "       x: array([0.07608696, 0.04347826])"
      ]
     },
     "execution_count": 27,
     "metadata": {},
     "output_type": "execute_result"
    }
   ],
   "source": [
    "res = linprog(c, A_ub=-a, b_ub=-b)\n",
    "res"
   ]
  },
  {
   "cell_type": "code",
   "execution_count": 28,
   "id": "1d85e0af",
   "metadata": {},
   "outputs": [
    {
     "data": {
      "text/plain": [
       "array([0.63636363, 0.36363637])"
      ]
     },
     "execution_count": 28,
     "metadata": {},
     "output_type": "execute_result"
    }
   ],
   "source": [
    "p = res.x / res.x.sum()\n",
    "p"
   ]
  }
 ],
 "metadata": {
  "kernelspec": {
   "display_name": "Python 3",
   "language": "python",
   "name": "python3"
  },
  "language_info": {
   "codemirror_mode": {
    "name": "ipython",
    "version": 3
   },
   "file_extension": ".py",
   "mimetype": "text/x-python",
   "name": "python",
   "nbconvert_exporter": "python",
   "pygments_lexer": "ipython3",
   "version": "3.8.8"
  }
 },
 "nbformat": 4,
 "nbformat_minor": 5
}
