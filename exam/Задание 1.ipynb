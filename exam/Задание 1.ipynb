{
 "cells": [
  {
   "cell_type": "code",
   "execution_count": 4,
   "id": "36054e68",
   "metadata": {},
   "outputs": [],
   "source": [
    "from sympy import *\n",
    "import numpy as np\n",
    "from scipy.optimize import linprog"
   ]
  },
  {
   "cell_type": "code",
   "execution_count": 7,
   "id": "01768953",
   "metadata": {},
   "outputs": [
    {
     "name": "stdout",
     "output_type": "stream",
     "text": [
      "     con: array([5.37597236e-06, 1.18837283e-05, 8.11111634e-06])\n",
      "     fun: 1599.9998669891797\n",
      " message: 'Optimization terminated successfully.'\n",
      "     nit: 5\n",
      "   slack: array([2.53560953e-06, 7.30476494e-06, 5.35812271e-06, 1.00761751e-05])\n",
      "  status: 0\n",
      " success: True\n",
      "       x: array([2.99999961e+01, 9.61448287e-08, 2.10036755e-07, 2.99999983e+01,\n",
      "       5.92806573e-07, 3.86579920e-06, 5.99999942e+01, 6.99999894e+01,\n",
      "       7.96966647e-07, 7.99999887e+01, 2.08707052e-07, 1.00000021e+01])\n"
     ]
    }
   ],
   "source": [
    "LANES = 3\n",
    "CARRIERS = 4\n",
    "\n",
    "cost = np.array([\n",
    "    [6, 8, 15, 4],\n",
    "    [9, 15, 2, 3],\n",
    "    [6, 12, 7, 1]\n",
    "])\n",
    "\n",
    "capacity = [30, 80, 60, 110] # b_eq\n",
    "demand = [60, 130, 90] # b_ub\n",
    "\n",
    "A_eq = np.zeros(LANES*CARRIERS*LANES).reshape(LANES, LANES*CARRIERS)\n",
    "# Constraint for each lane, sum over the available carriers\n",
    "for l in range(LANES):\n",
    "    for var in range(l*CARRIERS, l*CARRIERS+CARRIERS):\n",
    "        A_eq[l, var] = 1\n",
    "        \n",
    "A_eq[0, 1] = 0\n",
    "A_eq[1, 3] = 0\n",
    "\n",
    "A_ub = np.zeros(CARRIERS*LANES*CARRIERS).reshape(CARRIERS, LANES*CARRIERS)\n",
    "# Constraint for each carrier, sum over the lanes\n",
    "for c in range(CARRIERS):\n",
    "    for var in range(c, LANES*CARRIERS, CARRIERS):\n",
    "        A_ub[c, var] = 1\n",
    "\n",
    "print(linprog(cost.flatten(), A_eq=A_eq, b_eq=demand, \n",
    "    A_ub=A_ub, b_ub=capacity))"
   ]
  },
  {
   "cell_type": "code",
   "execution_count": null,
   "id": "d7436056",
   "metadata": {},
   "outputs": [],
   "source": []
  }
 ],
 "metadata": {
  "kernelspec": {
   "display_name": "Python 3",
   "language": "python",
   "name": "python3"
  },
  "language_info": {
   "codemirror_mode": {
    "name": "ipython",
    "version": 3
   },
   "file_extension": ".py",
   "mimetype": "text/x-python",
   "name": "python",
   "nbconvert_exporter": "python",
   "pygments_lexer": "ipython3",
   "version": "3.8.8"
  }
 },
 "nbformat": 4,
 "nbformat_minor": 5
}
