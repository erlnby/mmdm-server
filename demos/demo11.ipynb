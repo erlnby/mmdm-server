{
 "cells": [
  {
   "cell_type": "code",
   "execution_count": 1,
   "id": "cddc5d81",
   "metadata": {},
   "outputs": [],
   "source": [
    "import numpy as np\n",
    "from scipy.optimize import linprog"
   ]
  },
  {
   "cell_type": "code",
   "execution_count": 2,
   "id": "17f76d31",
   "metadata": {},
   "outputs": [],
   "source": [
    "n = 4"
   ]
  },
  {
   "cell_type": "code",
   "execution_count": 3,
   "id": "dc0df107",
   "metadata": {},
   "outputs": [],
   "source": [
    "a = np.array([\n",
    "    [50, 30, 35, 45],\n",
    "    [40, 40, 55, 40],\n",
    "    [35, 40, 45, 55],\n",
    "    [10, 20, 25, 35]\n",
    "])\n",
    "\n",
    "w = np.array([0.15, 0.25, 0.5, 0.1])"
   ]
  },
  {
   "cell_type": "code",
   "execution_count": 4,
   "id": "862b7eeb",
   "metadata": {},
   "outputs": [],
   "source": [
    "pi = 1 / n"
   ]
  },
  {
   "cell_type": "code",
   "execution_count": 5,
   "id": "393ed383",
   "metadata": {},
   "outputs": [
    {
     "data": {
      "text/plain": [
       "43.75"
      ]
     },
     "execution_count": 5,
     "metadata": {},
     "output_type": "execute_result"
    }
   ],
   "source": [
    "w1 = np.ones(4) / n\n",
    "a.dot(w1).max()"
   ]
  },
  {
   "cell_type": "code",
   "execution_count": 6,
   "id": "7e532259",
   "metadata": {},
   "outputs": [
    {
     "data": {
      "text/plain": [
       "47.5"
      ]
     },
     "execution_count": 6,
     "metadata": {},
     "output_type": "execute_result"
    }
   ],
   "source": [
    "a.dot(w).max()"
   ]
  },
  {
   "cell_type": "code",
   "execution_count": 8,
   "id": "4643c481",
   "metadata": {},
   "outputs": [],
   "source": [
    "A = a * w\n",
    "A = A.T"
   ]
  },
  {
   "cell_type": "code",
   "execution_count": 10,
   "id": "d553bf92",
   "metadata": {},
   "outputs": [
    {
     "data": {
      "text/plain": [
       "5.25"
      ]
     },
     "execution_count": 10,
     "metadata": {},
     "output_type": "execute_result"
    }
   ],
   "source": [
    "A.min(axis=0).max()"
   ]
  },
  {
   "cell_type": "code",
   "execution_count": 8,
   "id": "496685c5",
   "metadata": {},
   "outputs": [],
   "source": [
    "c = np.array([1, 1, 1, 1])\n",
    "b = np.array([1, 1, 1, 1])"
   ]
  },
  {
   "cell_type": "code",
   "execution_count": 14,
   "id": "6fc66081",
   "metadata": {},
   "outputs": [
    {
     "data": {
      "text/plain": [
       "     con: array([], dtype=float64)\n",
       "     fun: 0.18439716891277014\n",
       " message: 'Optimization terminated successfully.'\n",
       "     nit: 6\n",
       "   slack: array([2.63421405e-08, 8.08510687e-01, 3.07801431e+00, 2.37843998e-08])\n",
       "  status: 0\n",
       " success: True\n",
       "       x: array([1.41843973e-02, 2.97140855e-09, 1.70212767e-01, 1.74916195e-09])"
      ]
     },
     "execution_count": 14,
     "metadata": {},
     "output_type": "execute_result"
    }
   ],
   "source": [
    "res = linprog(c, A_ub=-A, b_ub=-b)\n",
    "res"
   ]
  },
  {
   "cell_type": "code",
   "execution_count": 18,
   "id": "a189cce5",
   "metadata": {},
   "outputs": [
    {
     "data": {
      "text/plain": [
       "5.423076752729616"
      ]
     },
     "execution_count": 18,
     "metadata": {},
     "output_type": "execute_result"
    }
   ],
   "source": [
    "v = 1 / res.x.sum()\n",
    "v"
   ]
  },
  {
   "cell_type": "code",
   "execution_count": 16,
   "id": "eb556ad5",
   "metadata": {},
   "outputs": [
    {
     "data": {
      "text/plain": [
       "array([1.00000003, 1.80851069, 4.07801431, 1.00000002])"
      ]
     },
     "execution_count": 16,
     "metadata": {},
     "output_type": "execute_result"
    }
   ],
   "source": [
    "A.dot(res.x)"
   ]
  },
  {
   "cell_type": "code",
   "execution_count": 19,
   "id": "5207e0e7",
   "metadata": {},
   "outputs": [
    {
     "data": {
      "text/plain": [
       "array([7.69230751e-02, 1.61141767e-08, 9.23076899e-01, 9.48583950e-09])"
      ]
     },
     "execution_count": 19,
     "metadata": {},
     "output_type": "execute_result"
    }
   ],
   "source": [
    "p = res.x / res.x.sum()\n",
    "p"
   ]
  },
  {
   "cell_type": "code",
   "execution_count": 21,
   "id": "28962da8",
   "metadata": {},
   "outputs": [
    {
     "data": {
      "text/plain": [
       "array([36.15384614, 53.84615349, 44.23076926, 23.84615389])"
      ]
     },
     "execution_count": 21,
     "metadata": {},
     "output_type": "execute_result"
    }
   ],
   "source": [
    "a.dot(p)"
   ]
  },
  {
   "cell_type": "code",
   "execution_count": 22,
   "id": "110c654a",
   "metadata": {},
   "outputs": [
    {
     "data": {
      "text/plain": [
       "array([ 5.4230769 ,  9.80769226, 22.11538461,  5.42307688])"
      ]
     },
     "execution_count": 22,
     "metadata": {},
     "output_type": "execute_result"
    }
   ],
   "source": [
    "A.dot(p)"
   ]
  }
 ],
 "metadata": {
  "kernelspec": {
   "display_name": "Python 3",
   "language": "python",
   "name": "python3"
  },
  "language_info": {
   "codemirror_mode": {
    "name": "ipython",
    "version": 3
   },
   "file_extension": ".py",
   "mimetype": "text/x-python",
   "name": "python",
   "nbconvert_exporter": "python",
   "pygments_lexer": "ipython3",
   "version": "3.8.8"
  }
 },
 "nbformat": 4,
 "nbformat_minor": 5
}
