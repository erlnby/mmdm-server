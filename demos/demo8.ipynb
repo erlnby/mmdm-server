{
 "cells": [
  {
   "cell_type": "code",
   "execution_count": 1,
   "id": "85bfc860",
   "metadata": {},
   "outputs": [
    {
     "name": "stdout",
     "output_type": "stream",
     "text": [
      "Collecting nashpy\n",
      "  Downloading nashpy-0.0.33-py3-none-any.whl (24 kB)\n",
      "Collecting numpy>=1.21.0\n",
      "  Downloading numpy-1.22.4-cp38-cp38-win_amd64.whl (14.8 MB)\n",
      "Requirement already satisfied: scipy>=0.19.0 in c:\\users\\erlnb\\anaconda3\\lib\\site-packages (from nashpy) (1.6.2)\n",
      "Installing collected packages: numpy, nashpy\n",
      "  Attempting uninstall: numpy\n",
      "    Found existing installation: numpy 1.20.1\n",
      "    Uninstalling numpy-1.20.1:\n",
      "      Successfully uninstalled numpy-1.20.1\n",
      "Successfully installed nashpy-0.0.33 numpy-1.22.4\n",
      "Note: you may need to restart the kernel to use updated packages.\n"
     ]
    }
   ],
   "source": [
    "pip install nashpy"
   ]
  },
  {
   "cell_type": "code",
   "execution_count": 3,
   "id": "8497ee95",
   "metadata": {},
   "outputs": [],
   "source": [
    "import nashpy as nash\n",
    "import numpy as np"
   ]
  },
  {
   "cell_type": "code",
   "execution_count": 4,
   "id": "6ac3e62d",
   "metadata": {},
   "outputs": [],
   "source": [
    "A = np.array([\n",
    "    [300, 280, 230],\n",
    "    [200, 180, 130],\n",
    "    [240, 380, 400]\n",
    "]) # A is the row player\n",
    "game1 = nash.Game(A)"
   ]
  },
  {
   "cell_type": "code",
   "execution_count": 5,
   "id": "4da54f65",
   "metadata": {},
   "outputs": [],
   "source": [
    "x, y = list(game1.support_enumeration())[0]"
   ]
  },
  {
   "cell_type": "code",
   "execution_count": 6,
   "id": "4600674e",
   "metadata": {},
   "outputs": [
    {
     "data": {
      "text/plain": [
       "Zero sum game with payoff matrices:\n",
       "\n",
       "Row player:\n",
       "[[300 280 230]\n",
       " [200 180 130]\n",
       " [240 380 400]]\n",
       "\n",
       "Column player:\n",
       "[[-300 -280 -230]\n",
       " [-200 -180 -130]\n",
       " [-240 -380 -400]]"
      ]
     },
     "execution_count": 6,
     "metadata": {},
     "output_type": "execute_result"
    }
   ],
   "source": [
    "game1"
   ]
  },
  {
   "cell_type": "code",
   "execution_count": 7,
   "id": "3ff883ed",
   "metadata": {},
   "outputs": [],
   "source": [
    "from numpy import linalg\n",
    "import numpy as np"
   ]
  },
  {
   "cell_type": "code",
   "execution_count": 8,
   "id": "b9e6a07e",
   "metadata": {},
   "outputs": [
    {
     "data": {
      "text/plain": [
       "array([-0.01060606,  0.03484848, -0.02424242])"
      ]
     },
     "execution_count": 8,
     "metadata": {},
     "output_type": "execute_result"
    }
   ],
   "source": [
    "linalg.solve(A, np.array([1, 1, 1]))"
   ]
  },
  {
   "cell_type": "code",
   "execution_count": 9,
   "id": "5eee0aea",
   "metadata": {},
   "outputs": [],
   "source": [
    "from scipy.optimize import linprog"
   ]
  },
  {
   "cell_type": "code",
   "execution_count": 10,
   "id": "db87b9b2",
   "metadata": {},
   "outputs": [
    {
     "data": {
      "text/plain": [
       "281.7388974857686"
      ]
     },
     "execution_count": 10,
     "metadata": {},
     "output_type": "execute_result"
    }
   ],
   "source": [
    "c = [-1, -1, -1]\n",
    "b = [1, 1, 1]\n",
    "\n",
    "res = linprog(c, A_ub=A, b_ub=b)\n",
    "1 / res.x.sum()"
   ]
  },
  {
   "cell_type": "code",
   "execution_count": null,
   "id": "9d8bb460",
   "metadata": {},
   "outputs": [],
   "source": []
  },
  {
   "cell_type": "code",
   "execution_count": null,
   "id": "734c01cf",
   "metadata": {},
   "outputs": [],
   "source": []
  }
 ],
 "metadata": {
  "kernelspec": {
   "display_name": "Python 3",
   "language": "python",
   "name": "python3"
  },
  "language_info": {
   "codemirror_mode": {
    "name": "ipython",
    "version": 3
   },
   "file_extension": ".py",
   "mimetype": "text/x-python",
   "name": "python",
   "nbconvert_exporter": "python",
   "pygments_lexer": "ipython3",
   "version": "3.8.8"
  }
 },
 "nbformat": 4,
 "nbformat_minor": 5
}
