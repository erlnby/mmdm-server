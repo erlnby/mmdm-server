{
 "cells": [
  {
   "cell_type": "code",
   "execution_count": 2,
   "id": "68e70d99",
   "metadata": {},
   "outputs": [],
   "source": [
    "import numpy as np"
   ]
  },
  {
   "cell_type": "code",
   "execution_count": 4,
   "id": "a9a88630",
   "metadata": {},
   "outputs": [],
   "source": [
    "x = np.array([\n",
    "    [11, 30],\n",
    "    [17, 20]\n",
    "])\n",
    "y = np.array([100, 130])\n",
    "y2 = np.array([200, 130])\n",
    "n = x.shape[0]"
   ]
  },
  {
   "cell_type": "code",
   "execution_count": 5,
   "id": "dd4737d4",
   "metadata": {},
   "outputs": [
    {
     "data": {
      "text/plain": [
       "array([141, 167])"
      ]
     },
     "execution_count": 5,
     "metadata": {},
     "output_type": "execute_result"
    }
   ],
   "source": [
    "xx = x.sum(axis=1) + y\n",
    "xx"
   ]
  },
  {
   "cell_type": "code",
   "execution_count": 6,
   "id": "27473a8e",
   "metadata": {},
   "outputs": [
    {
     "data": {
      "text/plain": [
       "array([[1., 0.],\n",
       "       [0., 1.]])"
      ]
     },
     "execution_count": 6,
     "metadata": {},
     "output_type": "execute_result"
    }
   ],
   "source": [
    "e = np.eye(n)\n",
    "e"
   ]
  },
  {
   "cell_type": "code",
   "execution_count": 7,
   "id": "bf9e5cdf",
   "metadata": {},
   "outputs": [
    {
     "data": {
      "text/plain": [
       "array([[0.07801418, 0.17964072],\n",
       "       [0.12056738, 0.11976048]])"
      ]
     },
     "execution_count": 7,
     "metadata": {},
     "output_type": "execute_result"
    }
   ],
   "source": [
    "a = x / xx\n",
    "a"
   ]
  },
  {
   "cell_type": "code",
   "execution_count": 8,
   "id": "11a515a3",
   "metadata": {},
   "outputs": [],
   "source": [
    "ea = e - a"
   ]
  },
  {
   "cell_type": "code",
   "execution_count": 9,
   "id": "e98eccc7",
   "metadata": {},
   "outputs": [
    {
     "data": {
      "text/plain": [
       "array([[1.11435484, 0.22741935],\n",
       "       [0.15263441, 1.1672043 ]])"
      ]
     },
     "execution_count": 9,
     "metadata": {},
     "output_type": "execute_result"
    }
   ],
   "source": [
    "s = np.linalg.inv(ea)\n",
    "s"
   ]
  },
  {
   "cell_type": "code",
   "execution_count": 10,
   "id": "038063a5",
   "metadata": {},
   "outputs": [
    {
     "data": {
      "text/plain": [
       "True"
      ]
     },
     "execution_count": 10,
     "metadata": {},
     "output_type": "execute_result"
    }
   ],
   "source": [
    "(s > 0).all()"
   ]
  },
  {
   "cell_type": "code",
   "execution_count": 31,
   "id": "f98f2abb",
   "metadata": {},
   "outputs": [
    {
     "data": {
      "text/plain": [
       "array([[-0.81490278, -0.72730684],\n",
       "       [ 0.57959767, -0.68631243]])"
      ]
     },
     "execution_count": 31,
     "metadata": {},
     "output_type": "execute_result"
    }
   ],
   "source": [
    "eig = np.linalg.eig(a)\n",
    "d = eig[0]\n",
    "v = eig[1]\n",
    "v"
   ]
  },
  {
   "cell_type": "code",
   "execution_count": 30,
   "id": "e10b74bc",
   "metadata": {},
   "outputs": [
    {
     "data": {
      "text/plain": [
       "(0.2475295138840824, array([-0.72730684, -0.68631243]))"
      ]
     },
     "execution_count": 30,
     "metadata": {},
     "output_type": "execute_result"
    }
   ],
   "source": [
    "di = np.argmax(d)\n",
    "d[di], v[:, di]"
   ]
  },
  {
   "cell_type": "code",
   "execution_count": 12,
   "id": "1adeac90",
   "metadata": {},
   "outputs": [
    {
     "data": {
      "text/plain": [
       "array([141., 167.])"
      ]
     },
     "execution_count": 12,
     "metadata": {},
     "output_type": "execute_result"
    }
   ],
   "source": [
    "x1 = s.dot(y)\n",
    "x1"
   ]
  },
  {
   "cell_type": "code",
   "execution_count": 32,
   "id": "df235a95",
   "metadata": {},
   "outputs": [
    {
     "data": {
      "text/plain": [
       "array([252.43548387, 182.26344086])"
      ]
     },
     "execution_count": 32,
     "metadata": {},
     "output_type": "execute_result"
    }
   ],
   "source": [
    "x2 = s.dot(y2)\n",
    "x2"
   ]
  },
  {
   "cell_type": "code",
   "execution_count": 14,
   "id": "be0734f4",
   "metadata": {},
   "outputs": [
    {
     "data": {
      "text/plain": [
       "array([202.30645161, 127.69354839])"
      ]
     },
     "execution_count": 14,
     "metadata": {},
     "output_type": "execute_result"
    }
   ],
   "source": [
    "x2 - (a * x2).sum(axis=0)"
   ]
  },
  {
   "cell_type": "code",
   "execution_count": 15,
   "id": "924b0077",
   "metadata": {},
   "outputs": [
    {
     "data": {
      "text/plain": [
       "50.12903225806451"
      ]
     },
     "execution_count": 15,
     "metadata": {},
     "output_type": "execute_result"
    }
   ],
   "source": [
    "a[0, 0] * x2[0] + a[1, 0] * x2[0]"
   ]
  },
  {
   "cell_type": "code",
   "execution_count": 16,
   "id": "af1deb88",
   "metadata": {},
   "outputs": [
    {
     "data": {
      "text/plain": [
       "[[0.07801418439716312, 0.17964071856287425],\n",
       " [0.12056737588652482, 0.11976047904191617]]"
      ]
     },
     "execution_count": 16,
     "metadata": {},
     "output_type": "execute_result"
    }
   ],
   "source": [
    "a.tolist()"
   ]
  },
  {
   "cell_type": "code",
   "execution_count": null,
   "id": "2eb788d0",
   "metadata": {},
   "outputs": [],
   "source": []
  }
 ],
 "metadata": {
  "kernelspec": {
   "display_name": "Python 3",
   "language": "python",
   "name": "python3"
  },
  "language_info": {
   "codemirror_mode": {
    "name": "ipython",
    "version": 3
   },
   "file_extension": ".py",
   "mimetype": "text/x-python",
   "name": "python",
   "nbconvert_exporter": "python",
   "pygments_lexer": "ipython3",
   "version": "3.8.8"
  }
 },
 "nbformat": 4,
 "nbformat_minor": 5
}
