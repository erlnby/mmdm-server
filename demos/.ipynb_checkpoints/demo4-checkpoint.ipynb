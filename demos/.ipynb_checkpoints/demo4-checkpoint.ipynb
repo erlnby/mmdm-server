{
 "cells": [
  {
   "cell_type": "code",
   "execution_count": 16,
   "id": "ae225936",
   "metadata": {},
   "outputs": [],
   "source": [
    "from sympy import *\n",
    "from scipy.optimize import minimize\n",
    "import numpy as np"
   ]
  },
  {
   "cell_type": "code",
   "execution_count": 17,
   "id": "04de3adc",
   "metadata": {},
   "outputs": [],
   "source": [
    "A, a_1, a_2, w_1, w_2, I = 30, 1/2, 1/3, 5, 10, 600"
   ]
  },
  {
   "cell_type": "code",
   "execution_count": 18,
   "id": "18fccb30",
   "metadata": {},
   "outputs": [],
   "source": [
    "b = sympify('A * x ** a_1 * y ** a_2')"
   ]
  },
  {
   "cell_type": "code",
   "execution_count": 19,
   "id": "4ed54c30",
   "metadata": {},
   "outputs": [
    {
     "data": {
      "text/latex": [
       "$\\displaystyle A x^{a_{1}} y^{a_{2}}$"
      ],
      "text/plain": [
       "A*x**a_1*y**a_2"
      ]
     },
     "execution_count": 19,
     "metadata": {},
     "output_type": "execute_result"
    }
   ],
   "source": [
    "b"
   ]
  },
  {
   "cell_type": "code",
   "execution_count": 20,
   "id": "5d5e2d10",
   "metadata": {},
   "outputs": [],
   "source": [
    "b = b.subs({'A': A, 'a_1': a_1, 'a_2': a_2})"
   ]
  },
  {
   "cell_type": "code",
   "execution_count": null,
   "id": "9426364c",
   "metadata": {},
   "outputs": [],
   "source": [
    "w = np.array([w_1, w_2])"
   ]
  },
  {
   "cell_type": "code",
   "execution_count": 21,
   "id": "2fedf06d",
   "metadata": {},
   "outputs": [],
   "source": [
    "def constraint1(x):\n",
    "    return I - (w * x).sum()"
   ]
  },
  {
   "cell_type": "code",
   "execution_count": 22,
   "id": "5c78cd70",
   "metadata": {},
   "outputs": [],
   "source": [
    "l = lambdify(symbols('x y'), b)"
   ]
  },
  {
   "cell_type": "code",
   "execution_count": 23,
   "id": "8349e804",
   "metadata": {},
   "outputs": [
    {
     "data": {
      "text/plain": [
       "95.24406311809192"
      ]
     },
     "execution_count": 23,
     "metadata": {},
     "output_type": "execute_result"
    }
   ],
   "source": [
    "l(4, 4)"
   ]
  },
  {
   "cell_type": "code",
   "execution_count": 24,
   "id": "c06769aa",
   "metadata": {},
   "outputs": [
    {
     "name": "stdout",
     "output_type": "stream",
     "text": [
      "<class 'numpy.ndarray'>\n",
      "<class 'numpy.ndarray'>\n",
      "<class 'numpy.ndarray'>\n",
      "<class 'numpy.ndarray'>\n",
      "<class 'numpy.ndarray'>\n",
      "<class 'numpy.ndarray'>\n",
      "<class 'numpy.ndarray'>\n",
      "<class 'numpy.ndarray'>\n",
      "<class 'numpy.ndarray'>\n",
      "<class 'numpy.ndarray'>\n",
      "<class 'numpy.ndarray'>\n",
      "<class 'numpy.ndarray'>\n",
      "<class 'numpy.ndarray'>\n",
      "<class 'numpy.ndarray'>\n",
      "<class 'numpy.ndarray'>\n",
      "<class 'numpy.ndarray'>\n",
      "<class 'numpy.ndarray'>\n",
      "<class 'numpy.ndarray'>\n",
      "<class 'numpy.ndarray'>\n",
      "<class 'numpy.ndarray'>\n",
      "<class 'numpy.ndarray'>\n",
      "<class 'numpy.ndarray'>\n",
      "<class 'numpy.ndarray'>\n",
      "<class 'numpy.ndarray'>\n",
      "<class 'numpy.ndarray'>\n",
      "<class 'numpy.ndarray'>\n",
      "<class 'numpy.ndarray'>\n",
      "<class 'numpy.ndarray'>\n",
      "<class 'numpy.ndarray'>\n",
      "<class 'numpy.ndarray'>\n",
      "<class 'numpy.ndarray'>\n",
      "<class 'numpy.ndarray'>\n",
      "<class 'numpy.ndarray'>\n",
      "     fun: -734.2736049573285\n",
      "     jac: array([ -5.09911346, -10.19824219])\n",
      " message: 'Optimization terminated successfully'\n",
      "    nfev: 24\n",
      "     nit: 8\n",
      "    njev: 8\n",
      "  status: 0\n",
      " success: True\n",
      "       x: array([71.99999621, 24.0000019 ])\n"
     ]
    }
   ],
   "source": [
    "con1 = {'type': 'ineq', 'fun': constraint1}\n",
    "constraints = (con1)\n",
    "x0 = [4, 4]\n",
    "solution = minimize(lambda args: -l(*args), x0, method='SLSQP', constraints=constraints)\n",
    "print(solution)"
   ]
  },
  {
   "cell_type": "code",
   "execution_count": null,
   "id": "e1838146",
   "metadata": {},
   "outputs": [],
   "source": []
  }
 ],
 "metadata": {
  "kernelspec": {
   "display_name": "Python 3",
   "language": "python",
   "name": "python3"
  },
  "language_info": {
   "codemirror_mode": {
    "name": "ipython",
    "version": 3
   },
   "file_extension": ".py",
   "mimetype": "text/x-python",
   "name": "python",
   "nbconvert_exporter": "python",
   "pygments_lexer": "ipython3",
   "version": "3.8.8"
  }
 },
 "nbformat": 4,
 "nbformat_minor": 5
}
