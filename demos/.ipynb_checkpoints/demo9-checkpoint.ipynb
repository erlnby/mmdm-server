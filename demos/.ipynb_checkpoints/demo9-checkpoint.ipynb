{
 "cells": [
  {
   "cell_type": "code",
   "execution_count": 2,
   "id": "342e2505",
   "metadata": {},
   "outputs": [],
   "source": [
    "import numpy as np\n",
    "from scipy.optimize import linprog"
   ]
  },
  {
   "cell_type": "code",
   "execution_count": 12,
   "id": "405e2b45",
   "metadata": {},
   "outputs": [],
   "source": [
    "a = np.array([\n",
    "    [300, 280, 230],\n",
    "    [200, 180, 130],\n",
    "    [240, 380, 400]\n",
    "]).T\n",
    "\n",
    "c = np.array([1, 1, 1])\n",
    "b = np.array([1, 1, 1])"
   ]
  },
  {
   "cell_type": "code",
   "execution_count": 16,
   "id": "2282be43",
   "metadata": {},
   "outputs": [
    {
     "data": {
      "text/plain": [
       "     con: array([], dtype=float64)\n",
       "     fun: 0.003549386729813791\n",
       " message: 'Optimization terminated successfully.'\n",
       "     nit: 5\n",
       "   slack: array([1.04934023e-06, 1.01853095e-01, 1.16280962e-06])\n",
       "  status: 0\n",
       " success: True\n",
       "       x: array([2.46913758e-03, 5.18935531e-10, 1.08024863e-03])"
      ]
     },
     "execution_count": 16,
     "metadata": {},
     "output_type": "execute_result"
    }
   ],
   "source": [
    "res = linprog(c, A_ub=-a, b_ub=-b)\n",
    "\n",
    "res"
   ]
  },
  {
   "cell_type": "code",
   "execution_count": 17,
   "id": "df215a82",
   "metadata": {},
   "outputs": [
    {
     "data": {
      "text/plain": [
       "array([1.00000105, 1.1018531 , 1.00000116])"
      ]
     },
     "execution_count": 17,
     "metadata": {},
     "output_type": "execute_result"
    }
   ],
   "source": [
    "a.dot(res.x)"
   ]
  },
  {
   "cell_type": "code",
   "execution_count": 5,
   "id": "ef1edbc7",
   "metadata": {},
   "outputs": [
    {
     "data": {
      "text/plain": [
       "array([0., 1., 0.])"
      ]
     },
     "execution_count": 5,
     "metadata": {},
     "output_type": "execute_result"
    }
   ],
   "source": [
    "p = res.x / res.x.sum()\n",
    "p"
   ]
  },
  {
   "cell_type": "code",
   "execution_count": 6,
   "id": "122c5b55",
   "metadata": {},
   "outputs": [
    {
     "data": {
      "text/plain": [
       "200.00000000000003"
      ]
     },
     "execution_count": 6,
     "metadata": {},
     "output_type": "execute_result"
    }
   ],
   "source": [
    "v = 1 / res.x.sum()\n",
    "v"
   ]
  },
  {
   "cell_type": "code",
   "execution_count": null,
   "id": "2738576d",
   "metadata": {},
   "outputs": [],
   "source": []
  }
 ],
 "metadata": {
  "kernelspec": {
   "display_name": "Python 3",
   "language": "python",
   "name": "python3"
  },
  "language_info": {
   "codemirror_mode": {
    "name": "ipython",
    "version": 3
   },
   "file_extension": ".py",
   "mimetype": "text/x-python",
   "name": "python",
   "nbconvert_exporter": "python",
   "pygments_lexer": "ipython3",
   "version": "3.8.8"
  }
 },
 "nbformat": 4,
 "nbformat_minor": 5
}
