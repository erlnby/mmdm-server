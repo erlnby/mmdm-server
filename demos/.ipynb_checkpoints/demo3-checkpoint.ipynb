{
 "cells": [
  {
   "cell_type": "code",
   "execution_count": 1,
   "id": "2413699b",
   "metadata": {},
   "outputs": [],
   "source": [
    "from sympy import *\n",
    "from scipy.optimize import minimize\n",
    "import numpy as np"
   ]
  },
  {
   "cell_type": "code",
   "execution_count": 2,
   "id": "346b80ea",
   "metadata": {},
   "outputs": [],
   "source": [
    "a = sympify('5 * ln(x - 3) + 8 * ln (y - 3)')"
   ]
  },
  {
   "cell_type": "code",
   "execution_count": 3,
   "id": "54f116a9",
   "metadata": {},
   "outputs": [
    {
     "data": {
      "text/latex": [
       "$\\displaystyle 5 \\log{\\left(x - 3 \\right)} + 8 \\log{\\left(y - 3 \\right)}$"
      ],
      "text/plain": [
       "5*log(x - 3) + 8*log(y - 3)"
      ]
     },
     "execution_count": 3,
     "metadata": {},
     "output_type": "execute_result"
    }
   ],
   "source": [
    "a"
   ]
  },
  {
   "cell_type": "code",
   "execution_count": null,
   "id": "8af8ad7d",
   "metadata": {},
   "outputs": [],
   "source": [
    "b = sympify('5 * ln(x - 3) + 8 * ln (y - 3)')"
   ]
  },
  {
   "cell_type": "code",
   "execution_count": 4,
   "id": "fdc9122c",
   "metadata": {},
   "outputs": [],
   "source": [
    "p, q, I = 15, 4, 422"
   ]
  },
  {
   "cell_type": "code",
   "execution_count": 5,
   "id": "87f5aaa0",
   "metadata": {},
   "outputs": [
    {
     "data": {
      "text/plain": [
       "<function __main__.<lambda>(x)>"
      ]
     },
     "execution_count": 5,
     "metadata": {},
     "output_type": "execute_result"
    }
   ],
   "source": [
    "def constraint1(x):\n",
    "    return I - p * x[0] - q * x[1]"
   ]
  },
  {
   "cell_type": "code",
   "execution_count": null,
   "id": "68ef996c",
   "metadata": {},
   "outputs": [],
   "source": [
    "bounds = [b, b]\n",
    "con1 = {'type': 'ineq', 'fun': constraint1}\n",
    "con2 = {'type': 'ineq', 'fun': constraint2}\n",
    "constraints = (con1, con2)\n",
    "x0 = [0, 0]\n",
    "solution = minimize(func, x0, method='SLSQP', bounds=bounds, constraints=constraints)\n",
    "print(solution)"
   ]
  }
 ],
 "metadata": {
  "kernelspec": {
   "display_name": "Python 3",
   "language": "python",
   "name": "python3"
  },
  "language_info": {
   "codemirror_mode": {
    "name": "ipython",
    "version": 3
   },
   "file_extension": ".py",
   "mimetype": "text/x-python",
   "name": "python",
   "nbconvert_exporter": "python",
   "pygments_lexer": "ipython3",
   "version": "3.8.8"
  }
 },
 "nbformat": 4,
 "nbformat_minor": 5
}
