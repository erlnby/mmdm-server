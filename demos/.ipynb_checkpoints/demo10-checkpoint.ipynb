{
 "cells": [
  {
   "cell_type": "code",
   "execution_count": 35,
   "id": "f4a2ccb7",
   "metadata": {},
   "outputs": [],
   "source": [
    "import nashpy as nash\n",
    "import numpy as np\n",
    "from scipy.optimize import linprog\n",
    "from scipy.optimize import minimize"
   ]
  },
  {
   "cell_type": "code",
   "execution_count": 77,
   "id": "e929e876",
   "metadata": {},
   "outputs": [],
   "source": [
    "A = np.array([\n",
    "    [300, 280, 230],\n",
    "    [200, 180, 130],\n",
    "    [240, 380, 400],\n",
    "])\n",
    "\n",
    "B = np.array([\n",
    "    [180, 110, 240],\n",
    "    [120, 160, 210],\n",
    "    [300, 140, 250],\n",
    "])"
   ]
  },
  {
   "cell_type": "code",
   "execution_count": 89,
   "id": "16761da8",
   "metadata": {},
   "outputs": [
    {
     "data": {
      "text/plain": [
       "[(array([0.45454545, 0.        , 0.54545455]),\n",
       "  array([0.73913043, 0.        , 0.26086957]))]"
      ]
     },
     "execution_count": 89,
     "metadata": {},
     "output_type": "execute_result"
    }
   ],
   "source": [
    "game = nash.Game(A, B)\n",
    "list(game.support_enumeration())"
   ]
  },
  {
   "cell_type": "code",
   "execution_count": 104,
   "id": "43c59365",
   "metadata": {},
   "outputs": [],
   "source": [
    "s = np.array([0.45, 0, 0.55, 0.74, 0, 0.26])"
   ]
  },
  {
   "cell_type": "code",
   "execution_count": 105,
   "id": "088f05d8",
   "metadata": {},
   "outputs": [
    {
     "data": {
      "text/plain": [
       "527.56"
      ]
     },
     "execution_count": 105,
     "metadata": {},
     "output_type": "execute_result"
    }
   ],
   "source": [
    "def l(x):\n",
    "    p = x[:3]\n",
    "    q = x[3:]\n",
    "    \n",
    "    As = p.dot(A).dot(q)\n",
    "    Bs = p.dot(B).dot(q)\n",
    "    \n",
    "    return As.sum() + Bs.sum()\n",
    "\n",
    "l(s)"
   ]
  },
  {
   "cell_type": "code",
   "execution_count": 106,
   "id": "7efc6da4",
   "metadata": {},
   "outputs": [
    {
     "data": {
      "text/plain": [
       "0.0"
      ]
     },
     "execution_count": 106,
     "metadata": {},
     "output_type": "execute_result"
    }
   ],
   "source": [
    "def c1(x):\n",
    "    p = x[:3]\n",
    "    q = x[3:]\n",
    "    \n",
    "    return p.sum() - 1\n",
    "\n",
    "c1(s)"
   ]
  },
  {
   "cell_type": "code",
   "execution_count": 107,
   "id": "ee80a299",
   "metadata": {},
   "outputs": [
    {
     "data": {
      "text/plain": [
       "0.0"
      ]
     },
     "execution_count": 107,
     "metadata": {},
     "output_type": "execute_result"
    }
   ],
   "source": [
    "def c2(x):\n",
    "    p = x[:3]\n",
    "    q = x[3:]\n",
    "    \n",
    "    return q.sum() - 1\n",
    "\n",
    "c2(s)"
   ]
  },
  {
   "cell_type": "code",
   "execution_count": 108,
   "id": "eff54af0",
   "metadata": {},
   "outputs": [
    {
     "data": {
      "text/plain": [
       "array([-1.100e-01,  9.989e+01,  9.000e-02])"
      ]
     },
     "execution_count": 108,
     "metadata": {},
     "output_type": "execute_result"
    }
   ],
   "source": [
    "def c3(x):\n",
    "    p = x[:3]\n",
    "    q = x[3:]\n",
    "    \n",
    "    Va = A.dot(q)\n",
    "    As = p.dot(A).dot(q).sum()\n",
    "    \n",
    "    return As - Va\n",
    "\n",
    "c3(s)"
   ]
  },
  {
   "cell_type": "code",
   "execution_count": 109,
   "id": "8670d596",
   "metadata": {},
   "outputs": [
    {
     "data": {
      "text/plain": [
       "array([ -0.13, 119.37,   0.37])"
      ]
     },
     "execution_count": 109,
     "metadata": {},
     "output_type": "execute_result"
    }
   ],
   "source": [
    "def c4(x):\n",
    "    p = x[:3]\n",
    "    q = x[3:]\n",
    "    \n",
    "    Vb = p.dot(B)\n",
    "    Bs = p.dot(B).dot(q).sum()\n",
    "    \n",
    "    return Bs - Vb\n",
    "\n",
    "c4(s)"
   ]
  },
  {
   "cell_type": "code",
   "execution_count": 110,
   "id": "d133824a",
   "metadata": {},
   "outputs": [
    {
     "ename": "NameError",
     "evalue": "name 'constraint1' is not defined",
     "output_type": "error",
     "traceback": [
      "\u001b[1;31m---------------------------------------------------------------------------\u001b[0m",
      "\u001b[1;31mNameError\u001b[0m                                 Traceback (most recent call last)",
      "\u001b[1;32m<ipython-input-110-423072ed673f>\u001b[0m in \u001b[0;36m<module>\u001b[1;34m\u001b[0m\n\u001b[1;32m----> 1\u001b[1;33m \u001b[0mcon1\u001b[0m \u001b[1;33m=\u001b[0m \u001b[1;33m{\u001b[0m\u001b[1;34m'type'\u001b[0m\u001b[1;33m:\u001b[0m \u001b[1;34m'ineq'\u001b[0m\u001b[1;33m,\u001b[0m \u001b[1;34m'fun'\u001b[0m\u001b[1;33m:\u001b[0m \u001b[0mconstraint1\u001b[0m\u001b[1;33m}\u001b[0m\u001b[1;33m\u001b[0m\u001b[1;33m\u001b[0m\u001b[0m\n\u001b[0m\u001b[0;32m      2\u001b[0m \u001b[0mconstraints\u001b[0m \u001b[1;33m=\u001b[0m \u001b[1;33m(\u001b[0m\u001b[0mcon1\u001b[0m\u001b[1;33m)\u001b[0m\u001b[1;33m\u001b[0m\u001b[1;33m\u001b[0m\u001b[0m\n\u001b[0;32m      3\u001b[0m \u001b[0mx0\u001b[0m \u001b[1;33m=\u001b[0m \u001b[1;33m[\u001b[0m\u001b[1;36m4\u001b[0m\u001b[1;33m,\u001b[0m \u001b[1;36m4\u001b[0m\u001b[1;33m]\u001b[0m\u001b[1;33m\u001b[0m\u001b[1;33m\u001b[0m\u001b[0m\n\u001b[0;32m      4\u001b[0m \u001b[0msolution\u001b[0m \u001b[1;33m=\u001b[0m \u001b[0mminimize\u001b[0m\u001b[1;33m(\u001b[0m\u001b[1;32mlambda\u001b[0m \u001b[0margs\u001b[0m\u001b[1;33m:\u001b[0m \u001b[1;33m-\u001b[0m\u001b[0ml\u001b[0m\u001b[1;33m(\u001b[0m\u001b[1;33m*\u001b[0m\u001b[0margs\u001b[0m\u001b[1;33m)\u001b[0m\u001b[1;33m,\u001b[0m \u001b[0mx0\u001b[0m\u001b[1;33m,\u001b[0m \u001b[0mmethod\u001b[0m\u001b[1;33m=\u001b[0m\u001b[1;34m'SLSQP'\u001b[0m\u001b[1;33m,\u001b[0m \u001b[0mconstraints\u001b[0m\u001b[1;33m=\u001b[0m\u001b[0mconstraints\u001b[0m\u001b[1;33m)\u001b[0m\u001b[1;33m\u001b[0m\u001b[1;33m\u001b[0m\u001b[0m\n\u001b[0;32m      5\u001b[0m \u001b[0mprint\u001b[0m\u001b[1;33m(\u001b[0m\u001b[0msolution\u001b[0m\u001b[1;33m)\u001b[0m\u001b[1;33m\u001b[0m\u001b[1;33m\u001b[0m\u001b[0m\n",
      "\u001b[1;31mNameError\u001b[0m: name 'constraint1' is not defined"
     ]
    }
   ],
   "source": [
    "constraints = [\n",
    "    {'type': 'ineq', 'fun': constraint1}\n",
    "]\n",
    "x0 = [0, 0, 0, 0, 0, 0]\n",
    "solution = minimize(lambda args: -l(*args), x0, method='SLSQP', constraints=constraints)\n",
    "print(solution)"
   ]
  },
  {
   "cell_type": "code",
   "execution_count": null,
   "id": "0b80d310",
   "metadata": {},
   "outputs": [],
   "source": []
  }
 ],
 "metadata": {
  "kernelspec": {
   "display_name": "Python 3",
   "language": "python",
   "name": "python3"
  },
  "language_info": {
   "codemirror_mode": {
    "name": "ipython",
    "version": 3
   },
   "file_extension": ".py",
   "mimetype": "text/x-python",
   "name": "python",
   "nbconvert_exporter": "python",
   "pygments_lexer": "ipython3",
   "version": "3.8.8"
  }
 },
 "nbformat": 4,
 "nbformat_minor": 5
}
