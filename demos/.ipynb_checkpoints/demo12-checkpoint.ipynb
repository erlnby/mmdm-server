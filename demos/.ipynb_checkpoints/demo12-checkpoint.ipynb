{
 "cells": [
  {
   "cell_type": "code",
   "execution_count": 2,
   "id": "9043bbac",
   "metadata": {},
   "outputs": [],
   "source": [
    "import numpy as np"
   ]
  },
  {
   "cell_type": "code",
   "execution_count": 3,
   "id": "d38260b1",
   "metadata": {},
   "outputs": [],
   "source": [
    "x = np.array([\n",
    "    [50, 30, 35, 45],\n",
    "    [40, 40, 40, 40],\n",
    "    [70, 40, 35, 50],\n",
    "    [10, 20, 25, 35]\n",
    "])"
   ]
  },
  {
   "cell_type": "code",
   "execution_count": 5,
   "id": "259c5941",
   "metadata": {},
   "outputs": [
    {
     "data": {
      "text/plain": [
       "10"
      ]
     },
     "execution_count": 5,
     "metadata": {},
     "output_type": "execute_result"
    }
   ],
   "source": [
    "x.min(axis=1).min()"
   ]
  },
  {
   "cell_type": "code",
   "execution_count": 6,
   "id": "4db3bb49",
   "metadata": {},
   "outputs": [
    {
     "data": {
      "text/plain": [
       "70"
      ]
     },
     "execution_count": 6,
     "metadata": {},
     "output_type": "execute_result"
    }
   ],
   "source": [
    "x.max(axis=1).max()"
   ]
  },
  {
   "cell_type": "code",
   "execution_count": 7,
   "id": "1f27d3eb",
   "metadata": {},
   "outputs": [
    {
     "data": {
      "text/plain": [
       "40"
      ]
     },
     "execution_count": 7,
     "metadata": {},
     "output_type": "execute_result"
    }
   ],
   "source": [
    "x.min(axis=1).max()"
   ]
  },
  {
   "cell_type": "code",
   "execution_count": 24,
   "id": "b0542d23",
   "metadata": {},
   "outputs": [],
   "source": [
    "w = np.linspace(0.0, 1.0, num=11).reshape(1, -1)"
   ]
  },
  {
   "cell_type": "code",
   "execution_count": 25,
   "id": "876830a2",
   "metadata": {},
   "outputs": [],
   "source": [
    "max_ = x.max(axis=1).reshape(1, -1).T\n",
    "min_ = x.min(axis=1).reshape(1, -1).T"
   ]
  },
  {
   "cell_type": "code",
   "execution_count": 29,
   "id": "c757200a",
   "metadata": {},
   "outputs": [
    {
     "data": {
      "text/plain": [
       "array([[30. , 32. , 34. , 36. , 38. , 40. , 42. , 44. , 46. , 48. , 50. ],\n",
       "       [40. , 40. , 40. , 40. , 40. , 40. , 40. , 40. , 40. , 40. , 40. ],\n",
       "       [35. , 38.5, 42. , 45.5, 49. , 52.5, 56. , 59.5, 63. , 66.5, 70. ],\n",
       "       [10. , 12.5, 15. , 17.5, 20. , 22.5, 25. , 27.5, 30. , 32.5, 35. ]])"
      ]
     },
     "execution_count": 29,
     "metadata": {},
     "output_type": "execute_result"
    }
   ],
   "source": [
    "res = max_.dot(w) + min_.dot(1 - w)\n",
    "res"
   ]
  },
  {
   "cell_type": "code",
   "execution_count": 30,
   "id": "d93b55f8",
   "metadata": {},
   "outputs": [
    {
     "data": {
      "text/plain": [
       "array([1, 1, 2, 2, 2, 2, 2, 2, 2, 2, 2], dtype=int64)"
      ]
     },
     "execution_count": 30,
     "metadata": {},
     "output_type": "execute_result"
    }
   ],
   "source": [
    "res.argmax(axis=0)"
   ]
  },
  {
   "cell_type": "markdown",
   "id": "ee684cd6",
   "metadata": {},
   "source": [
    "Критерий Сэвиджа"
   ]
  },
  {
   "cell_type": "code",
   "execution_count": 35,
   "id": "023b280b",
   "metadata": {},
   "outputs": [
    {
     "data": {
      "text/plain": [
       "5"
      ]
     },
     "execution_count": 35,
     "metadata": {},
     "output_type": "execute_result"
    }
   ],
   "source": [
    "(x.max(axis=0) - x).max(axis=1).min()"
   ]
  }
 ],
 "metadata": {
  "kernelspec": {
   "display_name": "Python 3",
   "language": "python",
   "name": "python3"
  },
  "language_info": {
   "codemirror_mode": {
    "name": "ipython",
    "version": 3
   },
   "file_extension": ".py",
   "mimetype": "text/x-python",
   "name": "python",
   "nbconvert_exporter": "python",
   "pygments_lexer": "ipython3",
   "version": "3.8.8"
  }
 },
 "nbformat": 4,
 "nbformat_minor": 5
}
