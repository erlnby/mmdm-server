{
 "cells": [
  {
   "cell_type": "code",
   "execution_count": 3,
   "id": "caff928f",
   "metadata": {},
   "outputs": [],
   "source": [
    "from sympy import *\n",
    "import numpy as np\n",
    "from scipy.optimize import linprog"
   ]
  },
  {
   "cell_type": "code",
   "execution_count": 20,
   "id": "58a9a3fc",
   "metadata": {},
   "outputs": [
    {
     "name": "stdout",
     "output_type": "stream",
     "text": [
      "     con: array([8.05738409e-09, 1.17091190e-08, 8.66646133e-09])\n",
      "     fun: 6949.999999799323\n",
      " message: 'Optimization terminated successfully.'\n",
      "     nit: 6\n",
      "   slack: array([4.46996751e-09, 2.95891311e-09, 7.51083462e-09, 1.02326680e-08,\n",
      "       3.26052430e-09])\n",
      "  status: 0\n",
      " success: True\n",
      "       x: array([1.50000000e+02, 7.98492788e-11, 1.20000000e+02, 1.40248134e-10,\n",
      "       3.88234341e-10, 2.10820285e-10, 2.28311776e-11, 2.47681750e-10,\n",
      "       2.80000000e+02, 1.10000000e+02, 2.70923933e-12, 1.00000000e+02,\n",
      "       1.30000000e+02, 6.00000000e+01, 1.85490381e-10])\n"
     ]
    }
   ],
   "source": [
    "LANES = 3\n",
    "CARRIERS = 5\n",
    "\n",
    "cost = np.array([\n",
    "    [9, 4, 6, 5, 6],\n",
    "    [17, 11, 15, 3, 7],\n",
    "    [20, 9, 15, 7, 25]\n",
    "])\n",
    "\n",
    "capacity = [150, 100, 250, 340, 110] # b_eq\n",
    "demand = [270, 390, 290] # b_ub\n",
    "\n",
    "A_eq = np.zeros(LANES*CARRIERS*LANES).reshape(LANES, LANES*CARRIERS)\n",
    "# Constraint for each lane, sum over the available carriers\n",
    "for l in range(LANES):\n",
    "    for var in range(l*CARRIERS, l*CARRIERS+CARRIERS):\n",
    "        A_eq[l, var] = 1\n",
    "\n",
    "A_ub = np.zeros(CARRIERS*LANES*CARRIERS).reshape(CARRIERS, LANES*CARRIERS)\n",
    "# Constraint for each carrier, sum over the lanes\n",
    "for c in range(CARRIERS):\n",
    "    for var in range(c, LANES*CARRIERS, CARRIERS):\n",
    "        A_ub[c, var] = 1\n",
    "\n",
    "print(linprog(cost.flatten(), A_eq=A_eq, b_eq=demand, \n",
    "    A_ub=A_ub, b_ub=capacity))"
   ]
  },
  {
   "cell_type": "code",
   "execution_count": null,
   "id": "07c93a0e",
   "metadata": {},
   "outputs": [],
   "source": []
  }
 ],
 "metadata": {
  "kernelspec": {
   "display_name": "Python 3",
   "language": "python",
   "name": "python3"
  },
  "language_info": {
   "codemirror_mode": {
    "name": "ipython",
    "version": 3
   },
   "file_extension": ".py",
   "mimetype": "text/x-python",
   "name": "python",
   "nbconvert_exporter": "python",
   "pygments_lexer": "ipython3",
   "version": "3.8.8"
  }
 },
 "nbformat": 4,
 "nbformat_minor": 5
}
