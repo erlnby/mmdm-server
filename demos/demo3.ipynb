{
 "cells": [
  {
   "cell_type": "code",
   "execution_count": 1,
   "id": "a048f55b",
   "metadata": {},
   "outputs": [],
   "source": [
    "from sympy import *\n",
    "from scipy.optimize import minimize\n",
    "import numpy as np"
   ]
  },
  {
   "cell_type": "code",
   "execution_count": 2,
   "id": "dbbcca81",
   "metadata": {},
   "outputs": [],
   "source": [
    "a = sympify('5 * ln(x - 3) + 8 * ln (y - 3)')"
   ]
  },
  {
   "cell_type": "code",
   "execution_count": 3,
   "id": "4844b0db",
   "metadata": {},
   "outputs": [
    {
     "data": {
      "text/latex": [
       "$\\displaystyle 5 \\log{\\left(x - 3 \\right)} + 8 \\log{\\left(y - 3 \\right)}$"
      ],
      "text/plain": [
       "5*log(x - 3) + 8*log(y - 3)"
      ]
     },
     "execution_count": 3,
     "metadata": {},
     "output_type": "execute_result"
    }
   ],
   "source": [
    "a"
   ]
  },
  {
   "cell_type": "code",
   "execution_count": 4,
   "id": "94a63db5",
   "metadata": {},
   "outputs": [],
   "source": [
    "b = sympify('5 * ln(x - 3) + 8 * ln (y - 3)')"
   ]
  },
  {
   "cell_type": "code",
   "execution_count": 5,
   "id": "1c280aef",
   "metadata": {},
   "outputs": [],
   "source": [
    "p, q, I = 15, 4, 422"
   ]
  },
  {
   "cell_type": "code",
   "execution_count": 6,
   "id": "ffd4e733",
   "metadata": {},
   "outputs": [],
   "source": [
    "def constraint1(x):\n",
    "    return I - p * x[0] - q * x[1]"
   ]
  },
  {
   "cell_type": "code",
   "execution_count": 7,
   "id": "84cbb8cb",
   "metadata": {},
   "outputs": [],
   "source": [
    "l = lambdify(symbols('x y'), a)"
   ]
  },
  {
   "cell_type": "code",
   "execution_count": 8,
   "id": "4fbfaf06",
   "metadata": {},
   "outputs": [
    {
     "name": "stdout",
     "output_type": "stream",
     "text": [
      "     fun: -43.406439949738555\n",
      "     jac: array([-0.53423786, -0.14246655])\n",
      " message: 'Optimization terminated successfully'\n",
      "    nfev: 36\n",
      "     nit: 12\n",
      "    njev: 12\n",
      "  status: 0\n",
      " success: True\n",
      "       x: array([12.35911919, 59.15330304])\n"
     ]
    }
   ],
   "source": [
    "con1 = {'type': 'ineq', 'fun': constraint1}\n",
    "constraints = (con1)\n",
    "x0 = [4, 4]\n",
    "solution = minimize(lambda args: -l(*args), x0, method='SLSQP', constraints=constraints)\n",
    "print(solution)"
   ]
  },
  {
   "cell_type": "code",
   "execution_count": 9,
   "id": "037028d3",
   "metadata": {},
   "outputs": [],
   "source": [
    "N = 100\n",
    "x = np.linspace(-100, 100, N, dtype=float)\n",
    "\n",
    "oy = (I - x * p) / q"
   ]
  },
  {
   "cell_type": "code",
   "execution_count": 10,
   "id": "a97b8361",
   "metadata": {},
   "outputs": [
    {
     "data": {
      "text/plain": [
       "array([0.90388528, 0.7754264 , 0.72541105, 0.69872089, 0.14682841,\n",
       "       0.499512  , 0.51535277, 0.66503392, 0.77664221, 0.26535323,\n",
       "       0.46769824, 0.64432277, 0.93137462, 0.54620678, 0.89241954,\n",
       "       0.81811293, 0.71516138, 0.01082153, 0.53698459, 0.12232935,\n",
       "       0.03094289, 0.62652259, 0.87985096, 0.35463377, 0.66785937,\n",
       "       0.94872677, 0.56768628, 0.80973464, 0.04345471, 0.26860546,\n",
       "       0.73854692, 0.54958943, 0.89914837, 0.8572181 , 0.52698688,\n",
       "       0.64475367, 0.11454972, 0.29577528, 0.70228364, 0.67628783,\n",
       "       0.65758625, 0.64132725, 0.53853885, 0.4062262 , 0.04341609,\n",
       "       0.35626202, 0.96372394, 0.11215312, 0.97471012, 0.74573734,\n",
       "       0.2247954 , 0.11238644, 0.9819287 , 0.47153956, 0.15936702,\n",
       "       0.23962816, 0.05600995, 0.67640767, 0.32436255, 0.41024286,\n",
       "       0.87311372, 0.45054476, 0.20947117, 0.08426727, 0.02263896,\n",
       "       0.74071059, 0.52290142, 0.8537177 , 0.86436929, 0.11137723,\n",
       "       0.84205002, 0.47411732, 0.45278307, 0.47672811, 0.97962691,\n",
       "       0.45068738, 0.02559554, 0.24361507, 0.15827071, 0.84419532,\n",
       "       0.16399606, 0.52969915, 0.48012897, 0.24821096, 0.31856777,\n",
       "       0.86340911, 0.1326219 , 0.34901074, 0.64160032, 0.94018276,\n",
       "       0.69112675, 0.03882016, 0.06329527, 0.72289263, 0.90005923,\n",
       "       0.83404709, 0.79869845, 0.79577915, 0.0754036 , 0.78284411])"
      ]
     },
     "execution_count": 10,
     "metadata": {},
     "output_type": "execute_result"
    }
   ],
   "source": [
    "np.random.random(100) "
   ]
  },
  {
   "cell_type": "code",
   "execution_count": 11,
   "id": "869a31b0",
   "metadata": {},
   "outputs": [],
   "source": [
    "f = sympify('5 * ln(x - 3) + 8 * ln (y - 3)')"
   ]
  },
  {
   "cell_type": "code",
   "execution_count": 15,
   "id": "8804e85a",
   "metadata": {},
   "outputs": [
    {
     "data": {
      "text/plain": [
       "[3 + (x - 3)**(-5/8)]"
      ]
     },
     "execution_count": 15,
     "metadata": {},
     "output_type": "execute_result"
    }
   ],
   "source": [
    "solve(f, 'y')"
   ]
  },
  {
   "cell_type": "code",
   "execution_count": 17,
   "id": "77887f25",
   "metadata": {},
   "outputs": [
    {
     "data": {
      "text/plain": [
       "[3 + exp(25/4)/(x - 3)**(5/8)]"
      ]
     },
     "execution_count": 17,
     "metadata": {},
     "output_type": "execute_result"
    }
   ],
   "source": [
    "solve(Eq(f, 50), 'y')"
   ]
  },
  {
   "cell_type": "code",
   "execution_count": 19,
   "id": "a27863a2",
   "metadata": {},
   "outputs": [],
   "source": [
    "q = solve(sympify('5 * ln(x - 3) + 8 * ln (y - 3) - 50'), 'y')"
   ]
  },
  {
   "cell_type": "code",
   "execution_count": 20,
   "id": "17fc9f7a",
   "metadata": {},
   "outputs": [],
   "source": [
    "l = lambdify('x', q)"
   ]
  },
  {
   "cell_type": "code",
   "execution_count": 22,
   "id": "1ec7f9c6",
   "metadata": {},
   "outputs": [
    {
     "name": "stdout",
     "output_type": "stream",
     "text": [
      "-100.0\n",
      "-77.77777777777777\n",
      "-55.55555555555556\n",
      "-33.33333333333334\n",
      "-11.111111111111114\n",
      "11.111111111111114\n",
      "33.333333333333314\n",
      "55.55555555555554\n",
      "77.77777777777777\n",
      "100.0\n"
     ]
    }
   ],
   "source": [
    "for i in np.linspace(-100, 100, 10):\n",
    "    print(i)"
   ]
  },
  {
   "cell_type": "code",
   "execution_count": 28,
   "id": "6d6d2df5",
   "metadata": {},
   "outputs": [
    {
     "data": {
      "text/plain": [
       "array([ True, False, False])"
      ]
     },
     "execution_count": 28,
     "metadata": {},
     "output_type": "execute_result"
    }
   ],
   "source": [
    "o = np.array([1,2,3])\n",
    "(o < 2) & (0 > -1)"
   ]
  }
 ],
 "metadata": {
  "kernelspec": {
   "display_name": "Python 3",
   "language": "python",
   "name": "python3"
  },
  "language_info": {
   "codemirror_mode": {
    "name": "ipython",
    "version": 3
   },
   "file_extension": ".py",
   "mimetype": "text/x-python",
   "name": "python",
   "nbconvert_exporter": "python",
   "pygments_lexer": "ipython3",
   "version": "3.8.8"
  }
 },
 "nbformat": 4,
 "nbformat_minor": 5
}
