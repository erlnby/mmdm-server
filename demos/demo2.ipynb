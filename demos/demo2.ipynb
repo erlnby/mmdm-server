{
 "cells": [
  {
   "cell_type": "code",
   "execution_count": 1,
   "id": "dd9de065",
   "metadata": {},
   "outputs": [],
   "source": [
    "from sympy import *\n",
    "from scipy.optimize import minimize\n",
    "import numpy as np"
   ]
  },
  {
   "cell_type": "code",
   "execution_count": 2,
   "id": "0231ddad",
   "metadata": {},
   "outputs": [],
   "source": [
    "a = sympify('1 + x_1 + y')"
   ]
  },
  {
   "cell_type": "code",
   "execution_count": 3,
   "id": "06f6354e",
   "metadata": {},
   "outputs": [
    {
     "data": {
      "text/plain": [
       "'x_1'"
      ]
     },
     "execution_count": 3,
     "metadata": {},
     "output_type": "execute_result"
    }
   ],
   "source": [
    "list(a.free_symbols)[0].name"
   ]
  },
  {
   "cell_type": "code",
   "execution_count": 13,
   "id": "b03532f6",
   "metadata": {},
   "outputs": [],
   "source": [
    "f = sympify('x + 1 + y')\n",
    "g = sympify('y + 12')"
   ]
  },
  {
   "cell_type": "code",
   "execution_count": 14,
   "id": "8dd5742e",
   "metadata": {},
   "outputs": [
    {
     "data": {
      "text/latex": [
       "$\\displaystyle 2 y + 13$"
      ],
      "text/plain": [
       "2*y + 13"
      ]
     },
     "execution_count": 14,
     "metadata": {},
     "output_type": "execute_result"
    }
   ],
   "source": [
    "f.subs({'x': g})"
   ]
  },
  {
   "cell_type": "code",
   "execution_count": 8,
   "id": "810f1dde",
   "metadata": {},
   "outputs": [
    {
     "data": {
      "text/latex": [
       "$\\displaystyle x + y + 1$"
      ],
      "text/plain": [
       "x + y + 1"
      ]
     },
     "execution_count": 8,
     "metadata": {},
     "output_type": "execute_result"
    }
   ],
   "source": [
    "f.subs({'z': 2})"
   ]
  },
  {
   "cell_type": "code",
   "execution_count": 9,
   "id": "97791190",
   "metadata": {},
   "outputs": [],
   "source": [
    "c = sympify('k*q_1**2 + l*q_1*q_2 + m*q_2**2 + n')\n",
    "q_1 = sympify('a + b*p_1')"
   ]
  },
  {
   "cell_type": "code",
   "execution_count": 15,
   "id": "83b24c2e",
   "metadata": {},
   "outputs": [
    {
     "data": {
      "text/plain": [
       "{k, l, m, n, q_1, q_2}"
      ]
     },
     "execution_count": 15,
     "metadata": {},
     "output_type": "execute_result"
    }
   ],
   "source": [
    "c.free_symbols"
   ]
  },
  {
   "cell_type": "code",
   "execution_count": 18,
   "id": "a0c5edf3",
   "metadata": {},
   "outputs": [
    {
     "data": {
      "text/latex": [
       "$\\displaystyle 4.0 k + 2.0 l q_{2} + m q_{2}^{2} + n$"
      ],
      "text/plain": [
       "4.0*k + 2.0*l*q_2 + m*q_2**2 + n"
      ]
     },
     "execution_count": 18,
     "metadata": {},
     "output_type": "execute_result"
    }
   ],
   "source": [
    "c.subs({Symbol('q_1'): 2.0})"
   ]
  },
  {
   "cell_type": "code",
   "execution_count": 19,
   "id": "338fe4dc",
   "metadata": {},
   "outputs": [],
   "source": [
    "s = sympify('p_1*(80.0 - 2.0*p_1) + p_2*(58.0 - 1.0*p_2) - 12800.0*(1 - 0.025*p_1)**2 - 10092.0*(1 - 0.0172413793103448*p_2)**2 - 5.0*(58.0 - 1.0*p_2)*(80.0 - 2.0*p_1) - 7.0')"
   ]
  },
  {
   "cell_type": "code",
   "execution_count": 21,
   "id": "a1ce2b00",
   "metadata": {},
   "outputs": [
    {
     "data": {
      "text/latex": [
       "$\\displaystyle - 10.0 p_{1}^{2} - 10.0 p_{1} p_{2} + 1300.0 p_{1} - 3.99999999999999 p_{2}^{2} + 805.999999999999 p_{2} - 46099.0$"
      ],
      "text/plain": [
       "-10.0*p_1**2 - 10.0*p_1*p_2 + 1300.0*p_1 - 3.99999999999999*p_2**2 + 805.999999999999*p_2 - 46099.0"
      ]
     },
     "execution_count": 21,
     "metadata": {},
     "output_type": "execute_result"
    }
   ],
   "source": [
    "simplify(s)"
   ]
  },
  {
   "cell_type": "code",
   "execution_count": 26,
   "id": "4fd838dc",
   "metadata": {},
   "outputs": [],
   "source": [
    "l = lambdify(symbols('p_1 p_2'), s)"
   ]
  },
  {
   "cell_type": "code",
   "execution_count": 44,
   "id": "18c42525",
   "metadata": {},
   "outputs": [
    {
     "data": {
      "text/plain": [
       "      fun: -206.9999999999951\n",
       " hess_inv: array([[ 0.53333571, -0.33330999],\n",
       "       [-0.33330999,  0.33341576]])\n",
       "      jac: array([-3.81469727e-06, -7.62939453e-06])\n",
       "  message: 'Optimization terminated successfully.'\n",
       "     nfev: 18\n",
       "      nit: 5\n",
       "     njev: 6\n",
       "   status: 0\n",
       "  success: True\n",
       "        x: array([2.00000001, 5.99999889])"
      ]
     },
     "execution_count": 44,
     "metadata": {},
     "output_type": "execute_result"
    }
   ],
   "source": [
    "minimize(lambda args: -l(*args), np.zeros(2))"
   ]
  },
  {
   "cell_type": "code",
   "execution_count": 54,
   "id": "b4a83c2b",
   "metadata": {},
   "outputs": [
    {
     "data": {
      "text/plain": [
       "array([1.99999969, 6.00000027])"
      ]
     },
     "execution_count": 54,
     "metadata": {},
     "output_type": "execute_result"
    }
   ],
   "source": [
    "s = sympify('-2.5 * x^2 - 5 * x * y - 4 * y^2 + 40 * x + 58 * y - 7')\n",
    "l = lambdify(symbols('x y'), s)\n",
    "r = minimize(lambda args: -l(*args), np.array([0.5, 0.5]))\n",
    "r.x"
   ]
  },
  {
   "cell_type": "code",
   "execution_count": 53,
   "id": "dd231342",
   "metadata": {},
   "outputs": [
    {
     "data": {
      "text/plain": [
       "      fun: -206.99999999999326\n",
       " hess_inv: array([[ 0.13333321, -0.16666647],\n",
       "       [-0.16666647,  0.33333304]])\n",
       "      jac: array([-5.7220459e-06, -5.7220459e-06])\n",
       "  message: 'Optimization terminated successfully.'\n",
       "     nfev: 27\n",
       "      nit: 5\n",
       "     njev: 9\n",
       "   status: 0\n",
       "  success: True\n",
       "        x: array([38.99999904, 52.00000136])"
      ]
     },
     "execution_count": 53,
     "metadata": {},
     "output_type": "execute_result"
    }
   ],
   "source": [
    "s = sympify('p_1*(80.0 - 2.0*p_1) + p_2*(58.0 - 1.0*p_2) - 12800.0*(1 - 0.025*p_1)**2 - 10092.0*(1 - 0.0172413793103448*p_2)**2 - 5.0*(58.0 - 1.0*p_2)*(80.0 - 2.0*p_1) - 7.0')\n",
    "l = lambdify(symbols('p_1 p_2'), s)\n",
    "r = minimize(lambda args: -l(*args), np.zeros(2))\n",
    "r"
   ]
  },
  {
   "cell_type": "code",
   "execution_count": 6,
   "id": "d338679c",
   "metadata": {},
   "outputs": [
    {
     "data": {
      "text/plain": [
       "array([ 1.,  2.,  3.,  4.,  5.,  6.,  7.,  8.,  9., 10.])"
      ]
     },
     "execution_count": 6,
     "metadata": {},
     "output_type": "execute_result"
    }
   ],
   "source": [
    "np.linspace(1, 4, 4)"
   ]
  },
  {
   "cell_type": "code",
   "execution_count": 8,
   "id": "0a581981",
   "metadata": {},
   "outputs": [
    {
     "data": {
      "text/plain": [
       "array([[1., 1., 1., 1.],\n",
       "       [2., 2., 2., 2.],\n",
       "       [3., 3., 3., 3.],\n",
       "       [4., 4., 4., 4.]])"
      ]
     },
     "execution_count": 8,
     "metadata": {},
     "output_type": "execute_result"
    }
   ],
   "source": [
    "np.outer(np.linspace(1, 4, 4), np.ones(4))"
   ]
  },
  {
   "cell_type": "code",
   "execution_count": 9,
   "id": "ec965eb6",
   "metadata": {},
   "outputs": [
    {
     "data": {
      "text/plain": [
       "array([[1., 2., 3., 4.],\n",
       "       [1., 2., 3., 4.],\n",
       "       [1., 2., 3., 4.],\n",
       "       [1., 2., 3., 4.]])"
      ]
     },
     "execution_count": 9,
     "metadata": {},
     "output_type": "execute_result"
    }
   ],
   "source": [
    "np.outer(np.linspace(1, 4, 4), np.ones(4)).T"
   ]
  },
  {
   "cell_type": "code",
   "execution_count": null,
   "id": "5bc94bcc",
   "metadata": {},
   "outputs": [],
   "source": []
  }
 ],
 "metadata": {
  "kernelspec": {
   "display_name": "Python 3",
   "language": "python",
   "name": "python3"
  },
  "language_info": {
   "codemirror_mode": {
    "name": "ipython",
    "version": 3
   },
   "file_extension": ".py",
   "mimetype": "text/x-python",
   "name": "python",
   "nbconvert_exporter": "python",
   "pygments_lexer": "ipython3",
   "version": "3.8.8"
  }
 },
 "nbformat": 4,
 "nbformat_minor": 5
}
