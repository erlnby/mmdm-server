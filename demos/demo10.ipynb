{
 "cells": [
  {
   "cell_type": "code",
   "execution_count": 1,
   "id": "227f5af1",
   "metadata": {},
   "outputs": [],
   "source": [
    "import nashpy as nash\n",
    "import numpy as np\n",
    "from scipy.optimize import linprog\n",
    "from scipy.optimize import minimize"
   ]
  },
  {
   "cell_type": "code",
   "execution_count": 2,
   "id": "e1014807",
   "metadata": {},
   "outputs": [],
   "source": [
    "A = np.array([\n",
    "    [300, 280, 230],\n",
    "    [200, 180, 130],\n",
    "    [240, 380, 400],\n",
    "])\n",
    "\n",
    "B = np.array([\n",
    "    [180, 110, 240],\n",
    "    [120, 160, 210],\n",
    "    [300, 140, 250],\n",
    "])"
   ]
  },
  {
   "cell_type": "code",
   "execution_count": 13,
   "id": "f7ac60fd",
   "metadata": {},
   "outputs": [
    {
     "data": {
      "text/plain": [
       "300"
      ]
     },
     "execution_count": 13,
     "metadata": {},
     "output_type": "execute_result"
    }
   ],
   "source": [
    "A.max(axis=0).min()"
   ]
  },
  {
   "cell_type": "code",
   "execution_count": 17,
   "id": "94e5f79b",
   "metadata": {},
   "outputs": [
    {
     "data": {
      "text/plain": [
       "210"
      ]
     },
     "execution_count": 17,
     "metadata": {},
     "output_type": "execute_result"
    }
   ],
   "source": [
    "B.max(axis=1).min()"
   ]
  },
  {
   "cell_type": "code",
   "execution_count": 3,
   "id": "df7e1c88",
   "metadata": {},
   "outputs": [
    {
     "data": {
      "text/plain": [
       "[(array([0.45454545, 0.        , 0.54545455]),\n",
       "  array([0.73913043, 0.        , 0.26086957]))]"
      ]
     },
     "execution_count": 3,
     "metadata": {},
     "output_type": "execute_result"
    }
   ],
   "source": [
    "game = nash.Game(A, B)\n",
    "list(game.support_enumeration())"
   ]
  },
  {
   "cell_type": "code",
   "execution_count": 4,
   "id": "115d1b5e",
   "metadata": {},
   "outputs": [],
   "source": [
    "s = np.array([0.45, 0, 0.55, 0.74, 0, 0.26])"
   ]
  },
  {
   "cell_type": "code",
   "execution_count": 5,
   "id": "5aa9c70b",
   "metadata": {},
   "outputs": [
    {
     "data": {
      "text/plain": [
       "527.56"
      ]
     },
     "execution_count": 5,
     "metadata": {},
     "output_type": "execute_result"
    }
   ],
   "source": [
    "def l(x):\n",
    "    p = x[:3]\n",
    "    q = x[3:]\n",
    "    \n",
    "    As = p.dot(A).dot(q)\n",
    "    Bs = p.dot(B).dot(q)\n",
    "    \n",
    "    return As.sum() + Bs.sum()\n",
    "\n",
    "l(s)"
   ]
  },
  {
   "cell_type": "code",
   "execution_count": 6,
   "id": "d8c837c1",
   "metadata": {},
   "outputs": [
    {
     "data": {
      "text/plain": [
       "0.0"
      ]
     },
     "execution_count": 6,
     "metadata": {},
     "output_type": "execute_result"
    }
   ],
   "source": [
    "def c1(x):\n",
    "    p = x[:3]\n",
    "    q = x[3:]\n",
    "    \n",
    "    return p.sum() - 1\n",
    "\n",
    "c1(s)"
   ]
  },
  {
   "cell_type": "code",
   "execution_count": 7,
   "id": "a4cadc1b",
   "metadata": {},
   "outputs": [
    {
     "data": {
      "text/plain": [
       "0.0"
      ]
     },
     "execution_count": 7,
     "metadata": {},
     "output_type": "execute_result"
    }
   ],
   "source": [
    "def c2(x):\n",
    "    p = x[:3]\n",
    "    q = x[3:]\n",
    "    \n",
    "    return q.sum() - 1\n",
    "\n",
    "c2(s)"
   ]
  },
  {
   "cell_type": "code",
   "execution_count": 8,
   "id": "c3aa7b8a",
   "metadata": {},
   "outputs": [
    {
     "data": {
      "text/plain": [
       "array([-1.100e-01,  9.989e+01,  9.000e-02])"
      ]
     },
     "execution_count": 8,
     "metadata": {},
     "output_type": "execute_result"
    }
   ],
   "source": [
    "def c3(x):\n",
    "    p = x[:3]\n",
    "    q = x[3:]\n",
    "    \n",
    "    Va = A.dot(q)\n",
    "    As = p.dot(A).dot(q).sum()\n",
    "    \n",
    "    return As - Va\n",
    "\n",
    "c3(s)"
   ]
  },
  {
   "cell_type": "code",
   "execution_count": 9,
   "id": "8046128d",
   "metadata": {},
   "outputs": [
    {
     "data": {
      "text/plain": [
       "array([ -0.13, 119.37,   0.37])"
      ]
     },
     "execution_count": 9,
     "metadata": {},
     "output_type": "execute_result"
    }
   ],
   "source": [
    "def c4(x):\n",
    "    p = x[:3]\n",
    "    q = x[3:]\n",
    "    \n",
    "    Vb = p.dot(B)\n",
    "    Bs = p.dot(B).dot(q).sum()\n",
    "    \n",
    "    return Bs - Vb\n",
    "\n",
    "c4(s)"
   ]
  },
  {
   "cell_type": "code",
   "execution_count": 10,
   "id": "714d20ed",
   "metadata": {},
   "outputs": [
    {
     "name": "stdout",
     "output_type": "stream",
     "text": [
      "     fun: -527.1936758811916\n",
      "     jac: array([-477.39131165, -325.2173996 , -568.69566345, -512.72727966,\n",
      "       -460.90909576, -568.18182373])\n",
      " message: 'Optimization terminated successfully'\n",
      "    nfev: 43\n",
      "     nit: 6\n",
      "    njev: 6\n",
      "  status: 0\n",
      " success: True\n",
      "       x: array([4.54545454e-01, 4.54248837e-11, 5.45454546e-01, 7.39130435e-01,\n",
      "       5.85234505e-11, 2.60869565e-01])\n"
     ]
    }
   ],
   "source": [
    "constraints = [\n",
    "    {'type': 'eq', 'fun': c1},\n",
    "    {'type': 'eq', 'fun': c2},\n",
    "    {'type': 'ineq', 'fun': c3},\n",
    "    {'type': 'ineq', 'fun': c4},\n",
    "]\n",
    "\n",
    "bounds = [\n",
    "    (0, 1),\n",
    "    (0, 1),\n",
    "    (0, 1),\n",
    "    (0, 1),\n",
    "    (0, 1),\n",
    "    (0, 1),\n",
    "]\n",
    "\n",
    "x0 = [0.5, 0.5, 0.5, 0.5, 0.5, 0.5]\n",
    "solution = minimize(lambda x: -l(x), x0, method='SLSQP', constraints=constraints, bounds=bounds)\n",
    "print(solution)"
   ]
  },
  {
   "cell_type": "code",
   "execution_count": 11,
   "id": "dfa90c41",
   "metadata": {},
   "outputs": [
    {
     "data": {
      "text/plain": [
       "(0.0,\n",
       " 0.0,\n",
       " array([-1.1428483e-08,  1.0000000e+02,  1.1958150e-09]),\n",
       " array([-8.84867291e-09,  1.19090909e+02, -1.64553171e-09]))"
      ]
     },
     "execution_count": 11,
     "metadata": {},
     "output_type": "execute_result"
    }
   ],
   "source": [
    "s = solution.x\n",
    "\n",
    "c1(s), c2(s), c3(s), c4(s)"
   ]
  },
  {
   "cell_type": "code",
   "execution_count": null,
   "id": "4e0d6b0a",
   "metadata": {},
   "outputs": [],
   "source": []
  },
  {
   "cell_type": "code",
   "execution_count": null,
   "id": "411e3a6b",
   "metadata": {},
   "outputs": [],
   "source": []
  }
 ],
 "metadata": {
  "kernelspec": {
   "display_name": "Python 3",
   "language": "python",
   "name": "python3"
  },
  "language_info": {
   "codemirror_mode": {
    "name": "ipython",
    "version": 3
   },
   "file_extension": ".py",
   "mimetype": "text/x-python",
   "name": "python",
   "nbconvert_exporter": "python",
   "pygments_lexer": "ipython3",
   "version": "3.8.8"
  }
 },
 "nbformat": 4,
 "nbformat_minor": 5
}
