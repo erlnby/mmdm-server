{
 "cells": [
  {
   "cell_type": "code",
   "execution_count": 1,
   "id": "1726597e",
   "metadata": {},
   "outputs": [],
   "source": [
    "from sympy import *\n",
    "import numpy as np\n",
    "from scipy.optimize import linprog"
   ]
  },
  {
   "cell_type": "code",
   "execution_count": 2,
   "id": "4e36636d",
   "metadata": {},
   "outputs": [],
   "source": [
    "a_ = 4\n",
    "b_ = 4\n",
    "c_ = 32"
   ]
  },
  {
   "cell_type": "code",
   "execution_count": 3,
   "id": "058a5c1f",
   "metadata": {},
   "outputs": [
    {
     "data": {
      "text/plain": [
       "     con: array([], dtype=float64)\n",
       "     fun: -33359.99846596057\n",
       " message: 'Optimization terminated successfully.'\n",
       "     nit: 5\n",
       "   slack: array([1.36847223e-04, 1.51046476e-04, 5.02042098e-05, 5.19999898e+02,\n",
       "       3.60000030e+02])\n",
       "  status: 0\n",
       " success: True\n",
       "       x: array([5.02042098e-05, 5.19999898e+02, 3.60000030e+02])"
      ]
     },
     "execution_count": 3,
     "metadata": {},
     "output_type": "execute_result"
    }
   ],
   "source": [
    "A = np.array([\n",
    "    [1, 3, a_],\n",
    "    [6, 5, 2],\n",
    "    [-1, 0, 0],\n",
    "    [0, -1, 0],\n",
    "    [0, 0, -1],\n",
    "])\n",
    "\n",
    "b = np.array([3000, 3320, 0, 0, 0])\n",
    "\n",
    "c = np.array([6 * b_ + 12, 5 * b_ + 22, c_],)\n",
    "\n",
    "res = linprog(-c, A_ub=A, b_ub=b)\n",
    "res"
   ]
  },
  {
   "cell_type": "code",
   "execution_count": null,
   "id": "0918144d",
   "metadata": {},
   "outputs": [],
   "source": []
  }
 ],
 "metadata": {
  "kernelspec": {
   "display_name": "Python 3",
   "language": "python",
   "name": "python3"
  },
  "language_info": {
   "codemirror_mode": {
    "name": "ipython",
    "version": 3
   },
   "file_extension": ".py",
   "mimetype": "text/x-python",
   "name": "python",
   "nbconvert_exporter": "python",
   "pygments_lexer": "ipython3",
   "version": "3.8.8"
  }
 },
 "nbformat": 4,
 "nbformat_minor": 5
}
