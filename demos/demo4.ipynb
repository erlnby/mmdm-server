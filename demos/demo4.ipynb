{
 "cells": [
  {
   "cell_type": "code",
   "execution_count": 1,
   "id": "6eecc7c4",
   "metadata": {},
   "outputs": [],
   "source": [
    "from sympy import *\n",
    "from scipy.optimize import minimize\n",
    "import numpy as np"
   ]
  },
  {
   "cell_type": "code",
   "execution_count": 39,
   "id": "eea26697",
   "metadata": {},
   "outputs": [],
   "source": [
    "A, a_1, a_2, w_1, w_2, I = 30, 1/2, 0.333333333333, 5, 10, 600"
   ]
  },
  {
   "cell_type": "code",
   "execution_count": 40,
   "id": "e683ec6a",
   "metadata": {},
   "outputs": [],
   "source": [
    "b = sympify('A * (x ** a_1) * (y ** a_2)')"
   ]
  },
  {
   "cell_type": "code",
   "execution_count": 31,
   "id": "b003e6a1",
   "metadata": {},
   "outputs": [
    {
     "data": {
      "text/latex": [
       "$\\displaystyle A x^{a_{1}} y^{a_{2}}$"
      ],
      "text/plain": [
       "A*x**a_1*y**a_2"
      ]
     },
     "execution_count": 31,
     "metadata": {},
     "output_type": "execute_result"
    }
   ],
   "source": [
    "b"
   ]
  },
  {
   "cell_type": "code",
   "execution_count": 41,
   "id": "693c751e",
   "metadata": {},
   "outputs": [],
   "source": [
    "b = b.subs({'A': A, 'a_1': a_1, 'a_2': a_2})"
   ]
  },
  {
   "cell_type": "code",
   "execution_count": 6,
   "id": "cab62356",
   "metadata": {},
   "outputs": [],
   "source": [
    "w = np.array([w_1, w_2])"
   ]
  },
  {
   "cell_type": "code",
   "execution_count": 7,
   "id": "d65b8a18",
   "metadata": {},
   "outputs": [],
   "source": [
    "def constraint1(x):\n",
    "    return "
   ]
  },
  {
   "cell_type": "code",
   "execution_count": 8,
   "id": "f696a05e",
   "metadata": {},
   "outputs": [],
   "source": [
    "l = lambdify(symbols('x y'), b)"
   ]
  },
  {
   "cell_type": "code",
   "execution_count": 9,
   "id": "558bda8a",
   "metadata": {},
   "outputs": [
    {
     "data": {
      "text/plain": [
       "95.24406311809192"
      ]
     },
     "execution_count": 9,
     "metadata": {},
     "output_type": "execute_result"
    }
   ],
   "source": [
    "l(4, 4)"
   ]
  },
  {
   "cell_type": "code",
   "execution_count": 10,
   "id": "8e597466",
   "metadata": {},
   "outputs": [
    {
     "name": "stdout",
     "output_type": "stream",
     "text": [
      "     fun: -734.2736049573285\n",
      "     jac: array([ -5.09911346, -10.19824219])\n",
      " message: 'Optimization terminated successfully'\n",
      "    nfev: 24\n",
      "     nit: 8\n",
      "    njev: 8\n",
      "  status: 0\n",
      " success: True\n",
      "       x: array([71.99999621, 24.0000019 ])\n"
     ]
    }
   ],
   "source": [
    "con1 = {'type': 'ineq', 'fun': constraint1}\n",
    "constraints = (con1)\n",
    "x0 = [4, 4]\n",
    "solution = minimize(lambda args: -l(*args), x0, method='SLSQP', constraints=constraints)\n",
    "print(solution)"
   ]
  },
  {
   "cell_type": "code",
   "execution_count": 42,
   "id": "9028ed3b",
   "metadata": {},
   "outputs": [],
   "source": [
    "eq = Eq(b, -solution.fun)"
   ]
  },
  {
   "cell_type": "code",
   "execution_count": 43,
   "id": "6b7af566",
   "metadata": {},
   "outputs": [
    {
     "data": {
      "text/plain": [
       "'Eq(30*x**0.5*y**0.333333333333, 734.273604957329)'"
      ]
     },
     "execution_count": 43,
     "metadata": {},
     "output_type": "execute_result"
    }
   ],
   "source": [
    "str(eq)"
   ]
  },
  {
   "cell_type": "code",
   "execution_count": 44,
   "id": "e30a18d2",
   "metadata": {},
   "outputs": [
    {
     "data": {
      "text/plain": [
       "[14662.5662147649/x**(3/2)]"
      ]
     },
     "execution_count": 44,
     "metadata": {},
     "output_type": "execute_result"
    }
   ],
   "source": [
    "solve(eq, 'y')"
   ]
  },
  {
   "cell_type": "code",
   "execution_count": 11,
   "id": "190aace2",
   "metadata": {},
   "outputs": [
    {
     "data": {
      "text/latex": [
       "$\\displaystyle 30 x^{0.5} y^{0.333333333333333}$"
      ],
      "text/plain": [
       "30*x**0.5*y**0.333333333333333"
      ]
     },
     "execution_count": 11,
     "metadata": {},
     "output_type": "execute_result"
    }
   ],
   "source": [
    "b"
   ]
  }
 ],
 "metadata": {
  "kernelspec": {
   "display_name": "Python 3",
   "language": "python",
   "name": "python3"
  },
  "language_info": {
   "codemirror_mode": {
    "name": "ipython",
    "version": 3
   },
   "file_extension": ".py",
   "mimetype": "text/x-python",
   "name": "python",
   "nbconvert_exporter": "python",
   "pygments_lexer": "ipython3",
   "version": "3.8.8"
  }
 },
 "nbformat": 4,
 "nbformat_minor": 5
}
